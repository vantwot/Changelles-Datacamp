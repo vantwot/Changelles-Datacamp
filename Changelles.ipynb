{
  "nbformat": 4,
  "nbformat_minor": 0,
  "metadata": {
    "colab": {
      "name": "Retos .ipynb",
      "provenance": [],
      "authorship_tag": "ABX9TyO2olEnIYkV7NYeRy8yO7zs",
      "include_colab_link": true
    },
    "kernelspec": {
      "name": "python3",
      "display_name": "Python 3"
    }
  },
  "cells": [
    {
      "cell_type": "markdown",
      "metadata": {
        "id": "view-in-github",
        "colab_type": "text"
      },
      "source": [
        "<a href=\"https://colab.research.google.com/github/vantwot/Changelles-Datacamp/blob/main/Changelles.ipynb\" target=\"_parent\"><img src=\"https://colab.research.google.com/assets/colab-badge.svg\" alt=\"Open In Colab\"/></a>"
      ]
    },
    {
      "cell_type": "code",
      "metadata": {
        "id": "mnNCiTwXvifi"
      },
      "source": [
        "#Python If-Else\r\n",
        "\r\n",
        "n = int(raw_input())\r\n",
        "if n % 2 == 1:\r\n",
        "    print \"Weird\"\r\n",
        "elif n % 2 == 0 and 2 <= n <= 5:\r\n",
        "    print \"Not Weird\"\r\n",
        "elif n % 2 == 0 and 6 <= n <= 20:\r\n",
        "    print \"Weird\"\r\n",
        "else:\r\n",
        "    print \"Not Weird\"\r\n",
        "\r\n",
        "#The Minion Game"
      ],
      "execution_count": null,
      "outputs": []
    },
    {
      "cell_type": "markdown",
      "metadata": {
        "id": "ZnWn3OcjwK7w"
      },
      "source": [
        ""
      ]
    }
  ]
}