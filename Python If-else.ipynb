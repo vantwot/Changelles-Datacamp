{
  "nbformat": 4,
  "nbformat_minor": 0,
  "metadata": {
    "colab": {
      "name": "1.ipynb",
      "provenance": [],
      "authorship_tag": "ABX9TyMCOHG87rgEnuPjc43EkIuy",
      "include_colab_link": true
    },
    "kernelspec": {
      "name": "python3",
      "display_name": "Python 3"
    }
  },
  "cells": [
    {
      "cell_type": "markdown",
      "metadata": {
        "id": "view-in-github",
        "colab_type": "text"
      },
      "source": [
        "<a href=\"https://colab.research.google.com/github/vantwot/Changelles-Datacamp/blob/main/Python%20If-else.ipynb\" target=\"_parent\"><img src=\"https://colab.research.google.com/assets/colab-badge.svg\" alt=\"Open In Colab\"/></a>"
      ]
    },
    {
      "cell_type": "code",
      "metadata": {
        "id": "mnNCiTwXvifi"
      },
      "source": [
        "n = int(raw_input())\r\n",
        "if n % 2 == 1:\r\n",
        "    print \"Weird\"\r\n",
        "elif n % 2 == 0 and 2 <= n <= 5:\r\n",
        "    print \"Not Weird\"\r\n",
        "elif n % 2 == 0 and 6 <= n <= 20:\r\n",
        "    print \"Weird\"\r\n",
        "else:\r\n",
        "    print \"Not Weird\""
      ],
      "execution_count": null,
      "outputs": []
    }
  ]
}